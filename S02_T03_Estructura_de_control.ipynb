{
 "cells": [
  {
   "cell_type": "markdown",
   "metadata": {},
   "source": [
    "# S02 T03: ESTRUCTURA DE CONTROL\n",
    "\n",
    "#### David Arroyo"
   ]
  },
  {
   "cell_type": "code",
   "execution_count": 1,
   "metadata": {},
   "outputs": [],
   "source": [
    "import numpy as np"
   ]
  },
  {
   "cell_type": "code",
   "execution_count": 2,
   "metadata": {},
   "outputs": [
    {
     "name": "stdout",
     "output_type": "stream",
     "text": [
      "La calificación es 6, el alumno ha obtenido un Notable\n"
     ]
    }
   ],
   "source": [
    "# EJERCICIO 1\n",
    "\n",
    "\"\"\"\n",
    "ESCALAS:\n",
    "0-4 Suspès\n",
    "5-6 Aprovat\n",
    "7-8 Notable\n",
    "9-10 Excellent\n",
    "\n",
    "\"\"\"\n",
    "\n",
    "calificacion = 6\n",
    "\n",
    "if calificacion < 0 or calificacion > 10:\n",
    "    print (\"La calificación introducida esta fuera del rango de calificaciones\")\n",
    "else:\n",
    "    if calificacion < 5:\n",
    "        print (\"La calificación es {}, el alumno ha suspendido\".format(calificacion))\n",
    "    elif calificacion < 6:\n",
    "        print (\"La calificación es {}, el alumno ha aprobado\".format(calificacion))\n",
    "    elif calificacion < 8:\n",
    "        print (\"La calificación es {}, el alumno ha obtenido un Notable\".format(calificacion))\n",
    "    elif calificacion <= 10:\n",
    "        print (\"La calificación es {}, el alumno ha obtenido una nota Excelente\".format(calificacion))        "
   ]
  },
  {
   "cell_type": "code",
   "execution_count": 3,
   "metadata": {},
   "outputs": [
    {
     "name": "stdout",
     "output_type": "stream",
     "text": [
      "Introduzca un numero:5\n",
      "Introduzca un segundo numero:8\n",
      "El primer numero introducido, 5, es menor que el segundo numero introducido, 8.\n"
     ]
    }
   ],
   "source": [
    "# EJERCICIO 2\n",
    "number1 = int(input (\"Introduzca un numero:\"))\n",
    "number2 = int(input (\"Introduzca un segundo numero:\"))\n",
    "\n",
    "if number1 < number2:\n",
    "    print (\"El primer numero introducido, {}, es menor que el segundo numero introducido, {}.\".format(number1,number2))\n",
    "    \n",
    "elif number1 > number2:\n",
    "    print (\"El primer numero introducido, {}, es mayor que el segundo numero introducido, {}.\".format(number1,number2))\n",
    "    \n",
    "elif number1 == number2:\n",
    "    print (\"Ambos numeros introducidos son iguales\")\n"
   ]
  },
  {
   "cell_type": "code",
   "execution_count": 5,
   "metadata": {},
   "outputs": [
    {
     "name": "stdout",
     "output_type": "stream",
     "text": [
      "Por favor, introduzca su nombre David\n",
      "Introduzca el numero de veces que quiere que se repita su nombre 6\n",
      "DavidDavidDavidDavidDavidDavid\n"
     ]
    }
   ],
   "source": [
    "# EJERCICIO 3\n",
    "\n",
    "nombre = input (\"Por favor, introduzca su nombre \")\n",
    "repeticiones = int (input(\"Introduzca el numero de veces que quiere que se repita su nombre \"))\n",
    "\n",
    "if repeticiones <= 0:\n",
    "    print (\"Error, el numero de repeticiones tiene que ser igual o mayor que 1\")\n",
    "else:\n",
    "    mensaje = repeticiones*nombre\n",
    "    print (mensaje)\n",
    "\n",
    "\n"
   ]
  },
  {
   "cell_type": "code",
   "execution_count": 11,
   "metadata": {},
   "outputs": [
    {
     "name": "stdout",
     "output_type": "stream",
     "text": [
      "La matriz no es simétrica\n"
     ]
    }
   ],
   "source": [
    "# EJERCICIO 4\n",
    "matrix = np.array ([[1,1,1],\n",
    "                  [1,2,2],\n",
    "                  [1,1,1]])\n",
    "\n",
    "matrix_transpose = matrix.transpose()\n",
    "\n",
    "maskedMatrix = matrix == matrix_transpose\n",
    "\n",
    "if maskedMatrix[0,0] == 1 and maskedMatrix.all() == True:\n",
    "    print (\"La matriz es simétrica y tiene {} elementos\".format(matrix.size))\n",
    "else:\n",
    "    print (\"La matriz no es simétrica\")\n"
   ]
  },
  {
   "cell_type": "code",
   "execution_count": 13,
   "metadata": {},
   "outputs": [
    {
     "name": "stdout",
     "output_type": "stream",
     "text": [
      "Los valores que coinciden con sus indices son:\n",
      "0\n",
      "3\n",
      "7\n"
     ]
    }
   ],
   "source": [
    "# EJERCICIO 5\n",
    "\n",
    "lista = [0,2,3,3,5,6,7,7]\n",
    "\n",
    "listaCoincidentes = []\n",
    "\n",
    "for i in range(len(lista)):\n",
    "     if lista [i] == i:\n",
    "        listaCoincidentes.append(lista [i])     \n",
    "    \n",
    "if len(listaCoincidentes) == 0:\n",
    "    print (\"Ningun valor coincide con su indice\")\n",
    "else:\n",
    "    if len(listaCoincidentes) == 1:\n",
    "        print (\"El valor que coincide con su indice es el:\")\n",
    "    else:\n",
    "        print (\"Los valores que coinciden con sus indices son:\")\n",
    "    for numero in listaCoincidentes:\n",
    "        print (numero)"
   ]
  },
  {
   "cell_type": "code",
   "execution_count": null,
   "metadata": {},
   "outputs": [],
   "source": []
  }
 ],
 "metadata": {
  "kernelspec": {
   "display_name": "Python 3",
   "language": "python",
   "name": "python3"
  },
  "language_info": {
   "codemirror_mode": {
    "name": "ipython",
    "version": 3
   },
   "file_extension": ".py",
   "mimetype": "text/x-python",
   "name": "python",
   "nbconvert_exporter": "python",
   "pygments_lexer": "ipython3",
   "version": "3.8.3"
  }
 },
 "nbformat": 4,
 "nbformat_minor": 4
}
